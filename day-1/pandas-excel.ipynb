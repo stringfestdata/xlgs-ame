{
 "cells": [
  {
   "cell_type": "code",
   "execution_count": 1,
   "metadata": {},
   "outputs": [
    {
     "data": {
      "text/html": [
       "<div>\n",
       "<style scoped>\n",
       "    .dataframe tbody tr th:only-of-type {\n",
       "        vertical-align: middle;\n",
       "    }\n",
       "\n",
       "    .dataframe tbody tr th {\n",
       "        vertical-align: top;\n",
       "    }\n",
       "\n",
       "    .dataframe thead th {\n",
       "        text-align: right;\n",
       "    }\n",
       "</style>\n",
       "<table border=\"1\" class=\"dataframe\">\n",
       "  <thead>\n",
       "    <tr style=\"text-align: right;\">\n",
       "      <th></th>\n",
       "      <th>email</th>\n",
       "      <th>nps</th>\n",
       "      <th>joined</th>\n",
       "      <th>region</th>\n",
       "    </tr>\n",
       "  </thead>\n",
       "  <tbody>\n",
       "    <tr>\n",
       "      <th>0</th>\n",
       "      <td>cdomenget0@java.com</td>\n",
       "      <td>5</td>\n",
       "      <td>1</td>\n",
       "      <td>North</td>\n",
       "    </tr>\n",
       "    <tr>\n",
       "      <th>1</th>\n",
       "      <td>cphilcott1@wunderground.com</td>\n",
       "      <td>4</td>\n",
       "      <td>0</td>\n",
       "      <td>East</td>\n",
       "    </tr>\n",
       "    <tr>\n",
       "      <th>2</th>\n",
       "      <td>rferne2@goo.ne.jp</td>\n",
       "      <td>5</td>\n",
       "      <td>1</td>\n",
       "      <td>South</td>\n",
       "    </tr>\n",
       "    <tr>\n",
       "      <th>3</th>\n",
       "      <td>rtownsley3@xing.com</td>\n",
       "      <td>2</td>\n",
       "      <td>0</td>\n",
       "      <td>South</td>\n",
       "    </tr>\n",
       "    <tr>\n",
       "      <th>4</th>\n",
       "      <td>esnook4@biglobe.ne.jp</td>\n",
       "      <td>4</td>\n",
       "      <td>1</td>\n",
       "      <td>West</td>\n",
       "    </tr>\n",
       "  </tbody>\n",
       "</table>\n",
       "</div>"
      ],
      "text/plain": [
       "                         email  nps  joined region\n",
       "0          cdomenget0@java.com    5       1  North\n",
       "1  cphilcott1@wunderground.com    4       0   East\n",
       "2            rferne2@goo.ne.jp    5       1  South\n",
       "3          rtownsley3@xing.com    2       0  South\n",
       "4        esnook4@biglobe.ne.jp    4       1   West"
      ]
     },
     "execution_count": 1,
     "metadata": {},
     "output_type": "execute_result"
    }
   ],
   "source": [
    "# Read in our nps dataset\n",
    "import pandas as pd\n",
    "\n",
    "nps = pd.read_excel('datasets/nps.xlsx')\n",
    "nps.head()"
   ]
  },
  {
   "cell_type": "code",
   "execution_count": 2,
   "metadata": {},
   "outputs": [],
   "source": [
    "# There's a lot more that could be done with read_excel\n",
    "\n",
    "# ?pd.read_excel"
   ]
  },
  {
   "cell_type": "code",
   "execution_count": 3,
   "metadata": {},
   "outputs": [
    {
     "data": {
      "text/html": [
       "<div>\n",
       "<style scoped>\n",
       "    .dataframe tbody tr th:only-of-type {\n",
       "        vertical-align: middle;\n",
       "    }\n",
       "\n",
       "    .dataframe tbody tr th {\n",
       "        vertical-align: top;\n",
       "    }\n",
       "\n",
       "    .dataframe thead th {\n",
       "        text-align: right;\n",
       "    }\n",
       "</style>\n",
       "<table border=\"1\" class=\"dataframe\">\n",
       "  <thead>\n",
       "    <tr style=\"text-align: right;\">\n",
       "      <th></th>\n",
       "      <th>email</th>\n",
       "      <th>nps</th>\n",
       "      <th>joined</th>\n",
       "      <th>region</th>\n",
       "      <th>is_valid_email</th>\n",
       "    </tr>\n",
       "  </thead>\n",
       "  <tbody>\n",
       "    <tr>\n",
       "      <th>0</th>\n",
       "      <td>cdomenget0@java.com</td>\n",
       "      <td>5</td>\n",
       "      <td>1</td>\n",
       "      <td>North</td>\n",
       "      <td>True</td>\n",
       "    </tr>\n",
       "    <tr>\n",
       "      <th>1</th>\n",
       "      <td>cphilcott1@wunderground.com</td>\n",
       "      <td>4</td>\n",
       "      <td>0</td>\n",
       "      <td>East</td>\n",
       "      <td>True</td>\n",
       "    </tr>\n",
       "    <tr>\n",
       "      <th>2</th>\n",
       "      <td>rferne2@goo.ne.jp</td>\n",
       "      <td>5</td>\n",
       "      <td>1</td>\n",
       "      <td>South</td>\n",
       "      <td>True</td>\n",
       "    </tr>\n",
       "    <tr>\n",
       "      <th>3</th>\n",
       "      <td>rtownsley3@xing.com</td>\n",
       "      <td>2</td>\n",
       "      <td>0</td>\n",
       "      <td>South</td>\n",
       "      <td>True</td>\n",
       "    </tr>\n",
       "    <tr>\n",
       "      <th>4</th>\n",
       "      <td>esnook4@biglobe.ne.jp</td>\n",
       "      <td>4</td>\n",
       "      <td>1</td>\n",
       "      <td>West</td>\n",
       "      <td>True</td>\n",
       "    </tr>\n",
       "    <tr>\n",
       "      <th>...</th>\n",
       "      <td>...</td>\n",
       "      <td>...</td>\n",
       "      <td>...</td>\n",
       "      <td>...</td>\n",
       "      <td>...</td>\n",
       "    </tr>\n",
       "    <tr>\n",
       "      <th>763</th>\n",
       "      <td>bmulcahyl7@wix.com</td>\n",
       "      <td>7</td>\n",
       "      <td>0</td>\n",
       "      <td>North</td>\n",
       "      <td>True</td>\n",
       "    </tr>\n",
       "    <tr>\n",
       "      <th>764</th>\n",
       "      <td>wdomaschkel8@studiopress.com</td>\n",
       "      <td>6</td>\n",
       "      <td>0</td>\n",
       "      <td>East</td>\n",
       "      <td>True</td>\n",
       "    </tr>\n",
       "    <tr>\n",
       "      <th>765</th>\n",
       "      <td>cnarrawayl9@redcross.org</td>\n",
       "      <td>8</td>\n",
       "      <td>0</td>\n",
       "      <td>North</td>\n",
       "      <td>True</td>\n",
       "    </tr>\n",
       "    <tr>\n",
       "      <th>766</th>\n",
       "      <td>ceckleyla@g.co</td>\n",
       "      <td>0</td>\n",
       "      <td>1</td>\n",
       "      <td>North</td>\n",
       "      <td>True</td>\n",
       "    </tr>\n",
       "    <tr>\n",
       "      <th>767</th>\n",
       "      <td>cthomsenlb@lycos.com</td>\n",
       "      <td>6</td>\n",
       "      <td>0</td>\n",
       "      <td>South</td>\n",
       "      <td>True</td>\n",
       "    </tr>\n",
       "  </tbody>\n",
       "</table>\n",
       "<p>768 rows × 5 columns</p>\n",
       "</div>"
      ],
      "text/plain": [
       "                            email  nps  joined region  is_valid_email\n",
       "0             cdomenget0@java.com    5       1  North            True\n",
       "1     cphilcott1@wunderground.com    4       0   East            True\n",
       "2               rferne2@goo.ne.jp    5       1  South            True\n",
       "3             rtownsley3@xing.com    2       0  South            True\n",
       "4           esnook4@biglobe.ne.jp    4       1   West            True\n",
       "..                            ...  ...     ...    ...             ...\n",
       "763            bmulcahyl7@wix.com    7       0  North            True\n",
       "764  wdomaschkel8@studiopress.com    6       0   East            True\n",
       "765      cnarrawayl9@redcross.org    8       0  North            True\n",
       "766                ceckleyla@g.co    0       1  North            True\n",
       "767          cthomsenlb@lycos.com    6       0  South            True\n",
       "\n",
       "[768 rows x 5 columns]"
      ]
     },
     "execution_count": 3,
     "metadata": {},
     "output_type": "execute_result"
    }
   ],
   "source": [
    "# !pip install validate_email\n",
    "from validate_email import validate_email\n",
    "\n",
    "nps['is_valid_email'] = nps['email'].astype(str).apply(lambda x:validate_email(x))\n",
    "nps"
   ]
  },
  {
   "cell_type": "code",
   "execution_count": 4,
   "metadata": {},
   "outputs": [
    {
     "data": {
      "text/plain": [
       "0.0"
      ]
     },
     "execution_count": 4,
     "metadata": {},
     "output_type": "execute_result"
    }
   ],
   "source": [
    "# Detect missing nps values\n",
    "\n",
    "sum(pd.isnull(nps['nps'])) / len(nps)"
   ]
  },
  {
   "cell_type": "code",
   "execution_count": 5,
   "metadata": {},
   "outputs": [
    {
     "data": {
      "text/plain": [
       "0.0"
      ]
     },
     "execution_count": 5,
     "metadata": {},
     "output_type": "execute_result"
    }
   ],
   "source": [
    "# Impute the mising values with the median\n",
    "\n",
    "nps['nps'] = nps['nps'].fillna(nps['nps'].median())\n",
    "sum(pd.isnull(nps['nps'])) / len(nps)"
   ]
  },
  {
   "cell_type": "code",
   "execution_count": 6,
   "metadata": {},
   "outputs": [
    {
     "data": {
      "text/plain": [
       "West     199\n",
       "East     195\n",
       "North    188\n",
       "South    186\n",
       "Name: region, dtype: int64"
      ]
     },
     "execution_count": 6,
     "metadata": {},
     "output_type": "execute_result"
    }
   ],
   "source": [
    "# Get the count of records by region\n",
    "\n",
    "nps['region'].value_counts()"
   ]
  },
  {
   "cell_type": "code",
   "execution_count": 7,
   "metadata": {},
   "outputs": [
    {
     "data": {
      "text/plain": [
       "True     718\n",
       "False     50\n",
       "Name: is_valid_email, dtype: int64"
      ]
     },
     "execution_count": 7,
     "metadata": {},
     "output_type": "execute_result"
    }
   ],
   "source": [
    "# Should probably do the same for count of valid emails\n",
    "nps['is_valid_email'].value_counts()"
   ]
  },
  {
   "cell_type": "code",
   "execution_count": 8,
   "metadata": {},
   "outputs": [],
   "source": [
    "# OK, let's write this out to Excel\n",
    "nps.to_excel('output/nps.xlsx')"
   ]
  },
  {
   "cell_type": "code",
   "execution_count": 9,
   "metadata": {},
   "outputs": [],
   "source": [
    "# One for good measure\n",
    "nps['region'].value_counts().to_excel('output/region-counts.xlsx', sheet_name='value-counts')"
   ]
  }
 ],
 "metadata": {
  "kernelspec": {
   "display_name": "Python 3 (ipykernel)",
   "language": "python",
   "name": "python3"
  },
  "language_info": {
   "codemirror_mode": {
    "name": "ipython",
    "version": 3
   },
   "file_extension": ".py",
   "mimetype": "text/x-python",
   "name": "python",
   "nbconvert_exporter": "python",
   "pygments_lexer": "ipython3",
   "version": "3.9.12"
  }
 },
 "nbformat": 4,
 "nbformat_minor": 4
}
